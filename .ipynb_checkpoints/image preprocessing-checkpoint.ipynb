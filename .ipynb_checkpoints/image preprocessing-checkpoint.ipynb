{
 "cells": [
  {
   "cell_type": "code",
   "execution_count": 1,
   "id": "90f6c30f",
   "metadata": {},
   "outputs": [],
   "source": [
    "import cv2"
   ]
  },
  {
   "cell_type": "code",
   "execution_count": 3,
   "id": "59d6109e",
   "metadata": {},
   "outputs": [],
   "source": [
    "photo = cv2.imread(\"S12.JPG\")        # open from storage "
   ]
  },
  {
   "cell_type": "code",
   "execution_count": 5,
   "id": "2f0dc4b4",
   "metadata": {},
   "outputs": [],
   "source": [
    "cv2.imshow(\"hii\",photo)\n",
    "cv2.waitKey()\n",
    "cv2.destroyAllWindows()"
   ]
  },
  {
   "cell_type": "code",
   "execution_count": null,
   "id": "46c82122",
   "metadata": {},
   "outputs": [],
   "source": []
  },
  {
   "cell_type": "code",
   "execution_count": 6,
   "id": "c65e0599",
   "metadata": {},
   "outputs": [],
   "source": [
    "import numpy "
   ]
  },
  {
   "cell_type": "code",
   "execution_count": 7,
   "id": "cc85751d",
   "metadata": {},
   "outputs": [
    {
     "data": {
      "text/plain": [
       "array([[ 1,  2,  3,  4],\n",
       "       [ 5,  6,  7,  8],\n",
       "       [ 9, 10, 11, 12]])"
      ]
     },
     "execution_count": 7,
     "metadata": {},
     "output_type": "execute_result"
    }
   ],
   "source": [
    "numpy.array([[1,2,3,4],[5,6,7,8],[9,10,11,12]])   # 2D array  every image is 2D arraybecause when we zoom it there is many boxes\n",
    "                                                  # and it's called pixel. in every pixel we can fill color through BGR(RGB)\n",
    "                                                  # every colorful image is 3D array"
   ]
  },
  {
   "cell_type": "code",
   "execution_count": 8,
   "id": "4fa23160",
   "metadata": {},
   "outputs": [
    {
     "data": {
      "text/plain": [
       "(1000, 704, 3)"
      ]
     },
     "execution_count": 8,
     "metadata": {},
     "output_type": "execute_result"
    }
   ],
   "source": [
    "photo.shape                      # here 1000 rows , 704 columns and 3 means 3D"
   ]
  },
  {
   "cell_type": "code",
   "execution_count": 45,
   "id": "a71c7374",
   "metadata": {},
   "outputs": [],
   "source": [
    "#photo"
   ]
  },
  {
   "cell_type": "code",
   "execution_count": 10,
   "id": "03ed7417",
   "metadata": {},
   "outputs": [
    {
     "data": {
      "text/plain": [
       "array([192, 197, 182], dtype=uint8)"
      ]
     },
     "execution_count": 10,
     "metadata": {},
     "output_type": "execute_result"
    }
   ],
   "source": [
    "photo[0][0]      # first pixel"
   ]
  },
  {
   "cell_type": "code",
   "execution_count": 11,
   "id": "d801d282",
   "metadata": {},
   "outputs": [],
   "source": [
    "photo[0][0] = [0,255,0]   # change the color of first pixel"
   ]
  },
  {
   "cell_type": "code",
   "execution_count": 12,
   "id": "0e5ac831",
   "metadata": {},
   "outputs": [],
   "source": [
    "cv2.imshow(\"hii\",photo)\n",
    "cv2.waitKey()\n",
    "cv2.destroyAllWindows()"
   ]
  },
  {
   "cell_type": "code",
   "execution_count": 15,
   "id": "b19eaab8",
   "metadata": {},
   "outputs": [],
   "source": [
    "photo[100] = [0,255,0]   # change the color of whole 100 number row of image pixel"
   ]
  },
  {
   "cell_type": "code",
   "execution_count": 17,
   "id": "b139674a",
   "metadata": {},
   "outputs": [],
   "source": [
    "cv2.imshow(\"hii\",photo)\n",
    "cv2.waitKey()\n",
    "cv2.destroyAllWindows()"
   ]
  },
  {
   "cell_type": "code",
   "execution_count": 22,
   "id": "bab3aac2",
   "metadata": {},
   "outputs": [],
   "source": [
    "cphoto = photo[200:700 , 100:500 ]   # crop the image"
   ]
  },
  {
   "cell_type": "code",
   "execution_count": 23,
   "id": "d7c79d15",
   "metadata": {},
   "outputs": [
    {
     "data": {
      "text/plain": [
       "(500, 400, 3)"
      ]
     },
     "execution_count": 23,
     "metadata": {},
     "output_type": "execute_result"
    }
   ],
   "source": [
    "cphoto.shape"
   ]
  },
  {
   "cell_type": "code",
   "execution_count": 24,
   "id": "745d9814",
   "metadata": {},
   "outputs": [],
   "source": [
    "cv2.imshow(\"hii\",cphoto)\n",
    "cv2.waitKey()\n",
    "cv2.destroyAllWindows()"
   ]
  },
  {
   "cell_type": "code",
   "execution_count": null,
   "id": "bcb384d8",
   "metadata": {},
   "outputs": [],
   "source": []
  },
  {
   "cell_type": "code",
   "execution_count": 25,
   "id": "df50e73c",
   "metadata": {},
   "outputs": [],
   "source": [
    "# Create your own image"
   ]
  },
  {
   "cell_type": "code",
   "execution_count": 32,
   "id": "3bd448a9",
   "metadata": {},
   "outputs": [],
   "source": [
    "cn = numpy.zeros((500,500))   # this will create 2D image"
   ]
  },
  {
   "cell_type": "code",
   "execution_count": 33,
   "id": "552d27bd",
   "metadata": {},
   "outputs": [
    {
     "data": {
      "text/plain": [
       "(500, 500)"
      ]
     },
     "execution_count": 33,
     "metadata": {},
     "output_type": "execute_result"
    }
   ],
   "source": [
    "cn.shape"
   ]
  },
  {
   "cell_type": "code",
   "execution_count": 34,
   "id": "e3c52a92",
   "metadata": {},
   "outputs": [],
   "source": [
    "cv2.imshow(\"hii\",cn)\n",
    "cv2.waitKey()\n",
    "cv2.destroyAllWindows()"
   ]
  },
  {
   "cell_type": "code",
   "execution_count": null,
   "id": "35a46723",
   "metadata": {},
   "outputs": [],
   "source": []
  },
  {
   "cell_type": "code",
   "execution_count": 35,
   "id": "bbf54950",
   "metadata": {},
   "outputs": [],
   "source": [
    "a = numpy.array([[ [1,2,3],[4,5,6],[7,8,9] ]])"
   ]
  },
  {
   "cell_type": "code",
   "execution_count": 36,
   "id": "445069c0",
   "metadata": {},
   "outputs": [
    {
     "data": {
      "text/plain": [
       "(1, 3, 3)"
      ]
     },
     "execution_count": 36,
     "metadata": {},
     "output_type": "execute_result"
    }
   ],
   "source": [
    "a.shape   # 3D array"
   ]
  },
  {
   "cell_type": "code",
   "execution_count": null,
   "id": "e7483185",
   "metadata": {},
   "outputs": [],
   "source": []
  },
  {
   "cell_type": "markdown",
   "id": "fcddbeae",
   "metadata": {},
   "source": [
    "## Video Capturing"
   ]
  },
  {
   "cell_type": "code",
   "execution_count": 41,
   "id": "2df882d5",
   "metadata": {},
   "outputs": [],
   "source": [
    "import cv2"
   ]
  },
  {
   "cell_type": "code",
   "execution_count": 42,
   "id": "99b54644",
   "metadata": {},
   "outputs": [],
   "source": [
    "cap = cv2.VideoCapture(0)          # start webcam"
   ]
  },
  {
   "cell_type": "code",
   "execution_count": 43,
   "id": "42c2b2ba",
   "metadata": {},
   "outputs": [],
   "source": [
    "while True :                       # here true means it'ss running\n",
    "    ret , photo = cap.read()       # capture image\n",
    "    cv2.imshow(\"hii\",photo)        # show image\n",
    "    if cv2.waitKey(10) == 13:      # here 10 is in milisecond and 13 means enter key\n",
    "        break\n",
    "        \n",
    "cv2.destroyAllWindows()"
   ]
  },
  {
   "cell_type": "code",
   "execution_count": 44,
   "id": "679025aa",
   "metadata": {},
   "outputs": [],
   "source": [
    "cap.release()                      # release the webcam"
   ]
  },
  {
   "cell_type": "code",
   "execution_count": null,
   "id": "06f68541",
   "metadata": {},
   "outputs": [],
   "source": []
  }
 ],
 "metadata": {
  "kernelspec": {
   "display_name": "Python 3",
   "language": "python",
   "name": "python3"
  },
  "language_info": {
   "codemirror_mode": {
    "name": "ipython",
    "version": 3
   },
   "file_extension": ".py",
   "mimetype": "text/x-python",
   "name": "python",
   "nbconvert_exporter": "python",
   "pygments_lexer": "ipython3",
   "version": "3.8.8"
  }
 },
 "nbformat": 4,
 "nbformat_minor": 5
}
