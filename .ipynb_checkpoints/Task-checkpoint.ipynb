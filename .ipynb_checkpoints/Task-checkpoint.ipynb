{
 "cells": [
  {
   "cell_type": "markdown",
   "id": "2c838c34",
   "metadata": {},
   "source": [
    "## Create Image :-"
   ]
  },
  {
   "cell_type": "code",
   "execution_count": 1,
   "id": "2002313e",
   "metadata": {},
   "outputs": [],
   "source": [
    "import numpy"
   ]
  },
  {
   "cell_type": "code",
   "execution_count": 2,
   "id": "e2d8b51d",
   "metadata": {},
   "outputs": [],
   "source": [
    "photo = numpy.zeros((500,500,3))"
   ]
  },
  {
   "cell_type": "code",
   "execution_count": 3,
   "id": "a5e1261c",
   "metadata": {},
   "outputs": [
    {
     "data": {
      "text/plain": [
       "(500, 500, 3)"
      ]
     },
     "execution_count": 3,
     "metadata": {},
     "output_type": "execute_result"
    }
   ],
   "source": [
    "photo.shape"
   ]
  },
  {
   "cell_type": "code",
   "execution_count": 4,
   "id": "148ab98c",
   "metadata": {},
   "outputs": [],
   "source": [
    "import cv2"
   ]
  },
  {
   "cell_type": "code",
   "execution_count": 5,
   "id": "54af7500",
   "metadata": {},
   "outputs": [],
   "source": [
    "cv2.imshow(\"hii\",photo)\n",
    "cv2.waitKey()\n",
    "cv2.destroyAllWindows()"
   ]
  },
  {
   "cell_type": "code",
   "execution_count": 6,
   "id": "576d4f4b",
   "metadata": {},
   "outputs": [],
   "source": [
    "cphoto = cv2.circle(photo,(250,250),200,[0,0,100],5)\n",
    "s1photo = cv2.circle(photo,(160,160),30,[0,100,0],3)\n",
    "s2photo = cv2.circle(photo,(360,160),30,[0,100,0],3)\n",
    "for i in range(200,325) :\n",
    "    photo[i][250] = [100,0,0]\n",
    "    photo[i][249] = [100,0,0]\n",
    "    photo[i][251] = [100,0,0]\n",
    "for i in range(250,300) :\n",
    "    photo[325][i] = [100,0,0]\n",
    "    photo[326][i] = [100,0,0]\n",
    "    photo[327][i] = [100,0,0]\n",
    "for i in range(150,350) :\n",
    "    photo[375][i] = [200,250,100]\n",
    "    photo[376][i] = [200,250,100]\n",
    "    photo[377][i] = [200,250,100]"
   ]
  },
  {
   "cell_type": "code",
   "execution_count": 7,
   "id": "33cdc1f8",
   "metadata": {},
   "outputs": [],
   "source": [
    "cv2.imshow(\"Created Image\", cphoto)\n",
    "cv2.waitKey()\n",
    "cv2.destroyAllWindows()"
   ]
  },
  {
   "cell_type": "code",
   "execution_count": null,
   "id": "dd7993d9",
   "metadata": {},
   "outputs": [],
   "source": []
  },
  {
   "cell_type": "markdown",
   "id": "3e0dafd8",
   "metadata": {},
   "source": [
    "## Crop Image and Swap it."
   ]
  },
  {
   "cell_type": "code",
   "execution_count": 8,
   "id": "52875826",
   "metadata": {},
   "outputs": [],
   "source": [
    "import cv2"
   ]
  },
  {
   "cell_type": "code",
   "execution_count": 16,
   "id": "9623e5d5",
   "metadata": {},
   "outputs": [],
   "source": [
    "img1 = cv2.imread(\"S34.jpg\")\n",
    "cv2.imshow(\"Image1\",img1)\n",
    "cv2.waitKey()\n",
    "cv2.destroyAllWindows()"
   ]
  },
  {
   "cell_type": "code",
   "execution_count": null,
   "id": "2750bf0d",
   "metadata": {},
   "outputs": [],
   "source": [
    "img2 = cv2.imread(\"S11.jpg\")\n",
    "cv2.imshow(\"Image2\",img2)\n",
    "cv2.waitKey()\n",
    "cv2.destroyAllWindows()"
   ]
  },
  {
   "cell_type": "code",
   "execution_count": 10,
   "id": "78c20807",
   "metadata": {},
   "outputs": [],
   "source": [
    "crop1 = img1[100:500,100:400]\n",
    "img2[100:500,100:400] = crop1\n",
    "cv2.imshow(\"Swap1\",img2)\n",
    "cv2.waitKey()\n",
    "cv2.destroyAllWindows()"
   ]
  },
  {
   "cell_type": "code",
   "execution_count": 11,
   "id": "759a5954",
   "metadata": {},
   "outputs": [],
   "source": [
    "crop2 = img2[300:600,200:550]\n",
    "img1[300:600,200:550] = crop2\n",
    "cv2.imshow(\"Swap2\",img1)\n",
    "cv2.waitKey()\n",
    "cv2.destroyAllWindows()"
   ]
  },
  {
   "cell_type": "code",
   "execution_count": null,
   "id": "11e31a07",
   "metadata": {},
   "outputs": [],
   "source": []
  },
  {
   "cell_type": "markdown",
   "id": "6fa5760a",
   "metadata": {},
   "source": [
    "## Collage"
   ]
  },
  {
   "cell_type": "code",
   "execution_count": 12,
   "id": "4c038ff4",
   "metadata": {},
   "outputs": [],
   "source": [
    "import cv2\n",
    "img1 = cv2.imread(\"S34.jpg\")\n",
    "img2 = cv2.imread(\"S11.jpg\")"
   ]
  },
  {
   "cell_type": "code",
   "execution_count": 13,
   "id": "45577ca0",
   "metadata": {},
   "outputs": [],
   "source": [
    "img2 = img2[:679,:565]"
   ]
  },
  {
   "cell_type": "code",
   "execution_count": 14,
   "id": "c2031716",
   "metadata": {},
   "outputs": [],
   "source": [
    "final_img = cv2.hconcat([img1,img2])"
   ]
  },
  {
   "cell_type": "code",
   "execution_count": 15,
   "id": "f4113b5b",
   "metadata": {},
   "outputs": [],
   "source": [
    "cv2.imshow(\"Collage\",final_img)\n",
    "cv2.waitKey()\n",
    "cv2.destroyAllWindows()"
   ]
  },
  {
   "cell_type": "code",
   "execution_count": null,
   "id": "1fbf4776",
   "metadata": {},
   "outputs": [],
   "source": []
  }
 ],
 "metadata": {
  "kernelspec": {
   "display_name": "Python 3",
   "language": "python",
   "name": "python3"
  },
  "language_info": {
   "codemirror_mode": {
    "name": "ipython",
    "version": 3
   },
   "file_extension": ".py",
   "mimetype": "text/x-python",
   "name": "python",
   "nbconvert_exporter": "python",
   "pygments_lexer": "ipython3",
   "version": "3.8.8"
  }
 },
 "nbformat": 4,
 "nbformat_minor": 5
}
